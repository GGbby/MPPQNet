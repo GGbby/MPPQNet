{
 "cells": [
  {
   "cell_type": "code",
   "execution_count": 2,
   "id": "36464409",
   "metadata": {},
   "outputs": [
    {
     "data": {
      "application/vnd.jupyter.widget-view+json": {
       "model_id": "78a3b6d695594ec7a3fe79a9f169c33c",
       "version_major": 2,
       "version_minor": 0
      },
      "text/plain": [
       "Precompute bins:   0%|          | 0/3 [00:00<?, ?it/s]"
      ]
     },
     "metadata": {},
     "output_type": "display_data"
    },
    {
     "name": "stderr",
     "output_type": "stream",
     "text": [
      "Overall Progress: 100%|██████████| 2400/2400 [43:52<00:00,  1.10s/it]\n",
      "處理 model_vox11_00000600.ply: \n",
      "Overall Progress: 100%|██████████| 302/302 [11:28<00:00,  2.28s/it]\n",
      "處理 soldier_vox10_0833.ply: \n",
      "Overall Progress: 100%|██████████| 2400/2400 [41:56<00:00,  1.05s/it]\n",
      "處理 model_vox11_00000600.ply: \n",
      "Overall Progress: 100%|██████████| 302/302 [11:07<00:00,  2.21s/it]\n",
      "處理 soldier_vox10_0833.ply: \n",
      "Overall Progress: 100%|██████████| 2400/2400 [42:00<00:00,  1.05s/it]\n",
      "處理 model_vox11_00000600.ply: \n",
      "Overall Progress: 100%|██████████| 302/302 [11:11<00:00,  2.22s/it]\n",
      "處理 soldier_vox10_0833.ply: \n"
     ]
    }
   ],
   "source": [
    "# Cell 1：快取直方圖（Precompute histograms）\n",
    "from train_pf_batchVer import collect_histograms_from_folder_ply\n",
    "from tqdm.notebook import tqdm\n",
    "\n",
    "# 你要測的 bins 列表\n",
    "bins_list = [32, 64, 128]\n",
    "\n",
    "# 快取直方圖的 dict\n",
    "hist_cache = {}\n",
    "for num_bins in tqdm(bins_list, desc=\"Precompute bins\"):\n",
    "    # collect_histograms 自帶每個 ply 的進度條\n",
    "    Hs_train = collect_histograms_from_folder_ply(\"../dataset/test\", num_bins)\n",
    "    Hs_val   = collect_histograms_from_folder_ply(\"../dataset/val\",   num_bins)\n",
    "    hist_cache[num_bins] = (Hs_train, Hs_val)\n",
    "\n",
    "# 現在 hist_cache 裡面有每個 num_bins 對應的 (Hs_train, Hs_val)\n"
   ]
  },
  {
   "cell_type": "code",
   "execution_count": 3,
   "id": "11e74a0f",
   "metadata": {},
   "outputs": [
    {
     "data": {
      "application/vnd.jupyter.widget-view+json": {
       "model_id": "278a25ee73694748b43275d36edf81ae",
       "version_major": 2,
       "version_minor": 0
      },
      "text/plain": [
       "Bins to train:   0%|          | 0/8 [00:00<?, ?it/s]"
      ]
     },
     "metadata": {},
     "output_type": "display_data"
    },
    {
     "data": {
      "application/vnd.jupyter.widget-view+json": {
       "model_id": "cd074156a872427999b645d6b3329900",
       "version_major": 2,
       "version_minor": 0
      },
      "text/plain": [
       "K values (bin=64):   0%|          | 0/1 [00:00<?, ?it/s]"
      ]
     },
     "metadata": {},
     "output_type": "display_data"
    },
    {
     "ename": "TypeError",
     "evalue": "train_pf() got an unexpected keyword argument 'Hs_train'",
     "output_type": "error",
     "traceback": [
      "\u001b[1;31m---------------------------------------------------------------------------\u001b[0m",
      "\u001b[1;31mTypeError\u001b[0m                                 Traceback (most recent call last)",
      "Cell \u001b[1;32mIn[3], line 28\u001b[0m\n\u001b[0;32m     26\u001b[0m \u001b[38;5;28;01mfor\u001b[39;00m K \u001b[38;5;129;01min\u001b[39;00m tqdm(param_grid[num_bins], desc\u001b[38;5;241m=\u001b[39m\u001b[38;5;124mf\u001b[39m\u001b[38;5;124m\"\u001b[39m\u001b[38;5;124mK values (bin=\u001b[39m\u001b[38;5;132;01m{\u001b[39;00mnum_bins\u001b[38;5;132;01m}\u001b[39;00m\u001b[38;5;124m)\u001b[39m\u001b[38;5;124m\"\u001b[39m, leave\u001b[38;5;241m=\u001b[39m\u001b[38;5;28;01mFalse\u001b[39;00m):\n\u001b[0;32m     27\u001b[0m     save_path \u001b[38;5;241m=\u001b[39m os\u001b[38;5;241m.\u001b[39mpath\u001b[38;5;241m.\u001b[39mjoin(output_dir, save_template\u001b[38;5;241m.\u001b[39mformat(K\u001b[38;5;241m=\u001b[39mK, \u001b[38;5;28mbin\u001b[39m\u001b[38;5;241m=\u001b[39mnum_bins))\n\u001b[1;32m---> 28\u001b[0m     train_pf(\n\u001b[0;32m     29\u001b[0m         K\u001b[38;5;241m=\u001b[39mK,\n\u001b[0;32m     30\u001b[0m         num_bins\u001b[38;5;241m=\u001b[39mnum_bins,\n\u001b[0;32m     31\u001b[0m         epochs\u001b[38;5;241m=\u001b[39m\u001b[38;5;241m200\u001b[39m,\n\u001b[0;32m     32\u001b[0m         lr\u001b[38;5;241m=\u001b[39m\u001b[38;5;241m1e-3\u001b[39m,\n\u001b[0;32m     33\u001b[0m         clip_norm\u001b[38;5;241m=\u001b[39m\u001b[38;5;241m1.0\u001b[39m,\n\u001b[0;32m     34\u001b[0m         use_huber\u001b[38;5;241m=\u001b[39m\u001b[38;5;28;01mFalse\u001b[39;00m,\n\u001b[0;32m     35\u001b[0m         max_moment\u001b[38;5;241m=\u001b[39m\u001b[38;5;28;01mNone\u001b[39;00m,\n\u001b[0;32m     36\u001b[0m         batch_size\u001b[38;5;241m=\u001b[39m\u001b[38;5;241m32\u001b[39m,\n\u001b[0;32m     37\u001b[0m         save_path\u001b[38;5;241m=\u001b[39msave_path,\n\u001b[0;32m     38\u001b[0m         Hs_train\u001b[38;5;241m=\u001b[39mHs_train,\n\u001b[0;32m     39\u001b[0m         Hs_val\u001b[38;5;241m=\u001b[39mHs_val\n\u001b[0;32m     40\u001b[0m     )\n",
      "\u001b[1;31mTypeError\u001b[0m: train_pf() got an unexpected keyword argument 'Hs_train'"
     ]
    }
   ],
   "source": [
    "# Cell 2：載入 train_pf，迴圈跑不同的 (K, bin) 組合\n",
    "import os\n",
    "from train_pf_batchVer import train_pf\n",
    "from tqdm.notebook import tqdm\n",
    "\n",
    "# 參數表：bin → K 值列表\n",
    "param_grid = {\n",
    "    64:  [128],\n",
    "    128: [1, 2, 4, 8],\n",
    "    32:  [2, 4, 8, 16, 32, 64, 128],\n",
    "    16:  [1, 2, 4, 8, 16, 32, 64, 128],\n",
    "    8:   [1, 2, 4, 8, 16, 32, 64, 128],\n",
    "    4:   [1, 2, 4, 8, 16, 32, 64, 128],\n",
    "    2:   [1, 2, 4, 8, 16, 32, 64, 128],\n",
    "    1:   [1, 2, 4, 8, 16, 32, 64, 128],\n",
    "}\n",
    "\n",
    "output_dir    = \"pth\"\n",
    "os.makedirs(output_dir, exist_ok=True)\n",
    "save_template = \"mppq_K{K}_bins{bin}.pth\"\n",
    "\n",
    "# 外層：不同 bin，顯示進度\n",
    "for num_bins in tqdm(param_grid.keys(), desc=\"Bins to train\"):\n",
    "    Hs_train, Hs_val = hist_cache[num_bins]\n",
    "    # 內層：不同 K，顯示進度但跑完自動收起\n",
    "    for K in tqdm(param_grid[num_bins], desc=f\"K values (bin={num_bins})\", leave=False):\n",
    "        save_path = os.path.join(output_dir, save_template.format(K=K, bin=num_bins))\n",
    "        train_pf(\n",
    "            K=K,\n",
    "            num_bins=num_bins,\n",
    "            epochs=200,\n",
    "            lr=1e-3,\n",
    "            clip_norm=1.0,\n",
    "            use_huber=False,\n",
    "            max_moment=None,\n",
    "            batch_size=32,\n",
    "            save_path=save_path,\n",
    "            Hs_train=Hs_train,\n",
    "            Hs_val=Hs_val\n",
    "        )\n"
   ]
  }
 ],
 "metadata": {
  "kernelspec": {
   "display_name": "base",
   "language": "python",
   "name": "python3"
  },
  "language_info": {
   "codemirror_mode": {
    "name": "ipython",
    "version": 3
   },
   "file_extension": ".py",
   "mimetype": "text/x-python",
   "name": "python",
   "nbconvert_exporter": "python",
   "pygments_lexer": "ipython3",
   "version": "3.12.7"
  }
 },
 "nbformat": 4,
 "nbformat_minor": 5
}
